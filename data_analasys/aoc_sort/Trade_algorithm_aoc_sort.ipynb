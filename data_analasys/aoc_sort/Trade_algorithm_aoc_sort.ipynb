{
  "nbformat": 4,
  "nbformat_minor": 0,
  "metadata": {
    "colab": {
      "provenance": []
    },
    "kernelspec": {
      "name": "python3",
      "display_name": "Python 3"
    },
    "language_info": {
      "name": "python"
    }
  },
  "cells": [
    {
      "cell_type": "code",
      "execution_count": null,
      "metadata": {
        "colab": {
          "base_uri": "https://localhost:8080/"
        },
        "id": "CWJfLVLaAA3y",
        "outputId": "5c99da70-3a03-48d3-b5a4-4e9ea6b4a90b"
      },
      "outputs": [
        {
          "output_type": "stream",
          "name": "stdout",
          "text": [
            "Mounted at /content/drive\n"
          ]
        }
      ],
      "source": [
        "import pandas as pd\n",
        "import numpy as np\n",
        "import matplotlib.pyplot as plt\n",
        "import seaborn as sns\n",
        "from tensorflow.keras.models import Sequential, load_model\n",
        "from tensorflow.keras.layers import Dense\n",
        "from tensorflow.keras.callbacks import ModelCheckpoint, EarlyStopping\n",
        "from sklearn.preprocessing import MinMaxScaler\n",
        "import os\n",
        "from google.colab import drive\n",
        "\n",
        "def getAOC(data):\n",
        "  AOC = []\n",
        "  close = data['종가']\n",
        "\n",
        "  # aoc = (금일 종가 - 전일 종가) / 전일 종가\n",
        "  for i in range(len(close)):\n",
        "    aoc_value = ((close[i] - close[i-1]) / close[i-1]) * 100\n",
        "    if(i % 494 == 0):\n",
        "      aoc_value = 0\n",
        "    AOC.append(aoc_value)\n",
        "\n",
        "  return AOC\n",
        "\n",
        "drive.mount('/content/drive')\n",
        "\n",
        "sub=pd.read_csv(\"./drive/MyDrive/Colab Notebooks/sample_submission.csv\")\n",
        "data=pd.read_csv(\"./drive/MyDrive/Colab Notebooks/train.csv\")\n",
        "\n",
        "#sort data by \"종목명\"\n",
        "subject_Data=data.sort_values(by=\"종목명\",inplace=False)\n",
        "subject_Data.head()\n",
        "subject_Data.columns\n",
        "\n",
        "pv_s_data=pd.pivot_table(subject_Data,values=['거래량', '시가', '고가', '저가', '종가'],index=['종목코드','일자'])\n",
        "\n",
        "pv_s_data[\"AOC\"] = getAOC(pv_s_data)\n",
        "\n",
        "divided = pv_s_data.index.get_level_values('종목코드').unique()\n",
        "\n",
        "sliced_dataframes = []\n",
        "\n",
        "for i in divided:\n",
        "    sliced_data = pv_s_data.loc[i]\n",
        "    sliced_dataframe = sliced_data.reset_index()\n",
        "    sliced_dataframes.append(sliced_dataframe)"
      ]
    },
    {
      "cell_type": "code",
      "source": [
        "# 주식 데이터프레임에서 종목별로 높은 수익률 계산\n",
        "high_returns = []\n",
        "for df in sliced_dataframes:\n",
        "    aoc_values = df['AOC']\n",
        "    high_return = max(aoc_values)\n",
        "    high_returns.append(high_return)\n",
        "\n",
        "max_return_index = np.argmax(high_returns)\n",
        "max_return_stock = divided[max_return_index]\n",
        "print(\"가장 높은 수익률을 보인 종목: \", max_return_stock)"
      ],
      "metadata": {
        "colab": {
          "base_uri": "https://localhost:8080/"
        },
        "id": "TWXfQYdFBTIK",
        "outputId": "7e5a83df-e401-4085-bdab-2a1aa6e7fc9d"
      },
      "execution_count": null,
      "outputs": [
        {
          "output_type": "stream",
          "name": "stdout",
          "text": [
            "가장 높은 수익률을 보인 종목:  A145210\n"
          ]
        }
      ]
    },
    {
      "cell_type": "code",
      "source": [
        "def get_top_performers(date):\n",
        "    performers = []\n",
        "\n",
        "\n",
        "# 특정 날짜의 수익률 순으로 종목 출력\n",
        "target_date = 20230530\n",
        "\n",
        "if target_date not in data['일자'].values:\n",
        "    print(\"해당 날짜는 데이터셋에 존재하지 않습니다.\")\n",
        "else:\n",
        "    top_performers = get_top_performers(target_date)\n",
        "    if len(top_performers) == 0:\n",
        "        print(\"해당 날짜에 대한 데이터가 없습니다.\")\n",
        "    else:\n",
        "        for performer in top_performers:\n",
        "            print(f\"종목명: {performer[0]}, AOC: {performer[1]}\")"
      ],
      "metadata": {
        "colab": {
          "base_uri": "https://localhost:8080/"
        },
        "id": "kUUt_HDrDsGc",
        "outputId": "4df7419e-ea22-4de6-a735-0a82ae77b027"
      },
      "execution_count": null,
      "outputs": [
        {
          "output_type": "stream",
          "name": "stdout",
          "text": [
            "종목명: 20230530.0, AOC: 70489.0\n"
          ]
        }
      ]
    }
  ]
}