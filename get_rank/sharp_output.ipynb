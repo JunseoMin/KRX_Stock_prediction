{
  "cells": [
    {
      "cell_type": "markdown",
      "metadata": {
        "id": "4AsOnr2sKu6p"
      },
      "source": [
        "###  output code"
      ]
    },
    {
      "cell_type": "code",
      "execution_count": 35,
      "metadata": {},
      "outputs": [],
      "source": [
        "predict = pd.read_csv('pred_list_230725.csv')\n",
        "pred_list = predict['PredList']"
      ]
    },
    {
      "cell_type": "code",
      "execution_count": 36,
      "metadata": {},
      "outputs": [],
      "source": [
        "past_list = []\n",
        "for i in sliced_dataframes:\n",
        "  past_list.append(i['종가'][493])"
      ]
    },
    {
      "cell_type": "code",
      "execution_count": 37,
      "metadata": {},
      "outputs": [],
      "source": [
        "# 배열 뺄셈할라면 np.array가 편하긴한데 귀찮아서 그냥 만듬..\n",
        "def subtract_arrays(arr1, arr2):\n",
        "    if len(arr1) != len(arr2):\n",
        "        raise ValueError(\"Arrays must have the same length\")\n",
        "\n",
        "    result = []\n",
        "    for i in range(len(arr1)):\n",
        "        result.append(arr1[i] - arr2[i])\n",
        "    return result"
      ]
    },
    {
      "cell_type": "markdown",
      "metadata": {},
      "source": [
        "수익률(benefit) = 예측값 - 마지막 종가\n",
        "무위험 지표 금리(risk free rate) = Constant한 값\n",
        "샤프지수 = 수익률 - 지표금리 / 수익률의 표준편차"
      ]
    },
    {
      "cell_type": "code",
      "execution_count": null,
      "metadata": {},
      "outputs": [],
      "source": [
        "pred_list = np.array(pred_list, dtype = np.double)\n",
        "past_list = np.array(past_list, dtype = np.double)\n",
        "\n",
        "# 수익률\n",
        "benefit = subtract_arrays(pred_list, past_list)\n",
        "\n",
        "# 무위험지표금리\n",
        "# 자금 차입자의 신용위험 및 자금거래의 유덩성 위험이 배제된 상태에서\n",
        "# 자금의 수요와 공급에 의해 결정되는 금융기관의 평균적 자금조달비용\n",
        "\n",
        "risk_free_rate = 0.0\n",
        "sharpes = (benefit - risk_free_rate) / np.std(benefit)"
      ]
    },
    {
      "cell_type": "code",
      "execution_count": 118,
      "metadata": {
        "id": "6wOarADtAlF7"
      },
      "outputs": [],
      "source": [
        "df=pd.DataFrame({\n",
        "        '종목코드': out_labels,\n",
        "        '샤프지수': sharpes\n",
        "    }\n",
        ")"
      ]
    },
    {
      "cell_type": "code",
      "execution_count": 119,
      "metadata": {},
      "outputs": [],
      "source": [
        "df = df.sort_values(by='샤프지수', ascending = False)"
      ]
    },
    {
      "cell_type": "code",
      "execution_count": null,
      "metadata": {},
      "outputs": [],
      "source": [
        "df.drop(columns=['샤프지수'], inplace = True)"
      ]
    },
    {
      "cell_type": "code",
      "execution_count": 121,
      "metadata": {},
      "outputs": [],
      "source": [
        "df['순위'] = list(range(1, 2001))"
      ]
    },
    {
      "cell_type": "code",
      "execution_count": 122,
      "metadata": {},
      "outputs": [],
      "source": [
        "df['종목코드'] = df['종목코드'].astype(str)\n",
        "df['종목코드'] = df['종목코드'].str.split().str[1]"
      ]
    },
    {
      "cell_type": "code",
      "execution_count": 123,
      "metadata": {},
      "outputs": [],
      "source": [
        "df.to_csv('{}.csv'.format(\"230724_v0.3\"),index=False)"
      ]
    },
    {
      "cell_type": "code",
      "execution_count": 126,
      "metadata": {},
      "outputs": [],
      "source": [
        "pred_csv=pd.DataFrame({\n",
        "        'PredList': pred_list\n",
        "    }\n",
        ")"
      ]
    },
    {
      "cell_type": "code",
      "execution_count": 127,
      "metadata": {},
      "outputs": [],
      "source": [
        "pred_csv.to_csv('{}.csv'.format(\"pred_list15_230725\"),index=False)"
      ]
    }
  ],
  "metadata": {
    "colab": {
      "provenance": []
    },
    "kernelspec": {
      "display_name": "conda",
      "language": "python",
      "name": "conda"
    },
    "language_info": {
      "codemirror_mode": {
        "name": "ipython",
        "version": 3
      },
      "file_extension": ".py",
      "mimetype": "text/x-python",
      "name": "python",
      "nbconvert_exporter": "python",
      "pygments_lexer": "ipython3",
      "version": "3.9.13"
    }
  },
  "nbformat": 4,
  "nbformat_minor": 0
}
