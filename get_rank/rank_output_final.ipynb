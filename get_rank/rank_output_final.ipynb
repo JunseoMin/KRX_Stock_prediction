{
  "cells": [
    {
      "cell_type": "markdown",
      "metadata": {
        "id": "4AsOnr2sKu6p"
      },
      "source": [
        "###  output code"
      ]
    },
    {
      "cell_type": "code",
      "execution_count": 24,
      "metadata": {},
      "outputs": [],
      "source": [
        "import numpy as np\n",
        "import pandas as pd\n",
        "import json"
      ]
    },
    {
      "cell_type": "code",
      "execution_count": 71,
      "metadata": {},
      "outputs": [],
      "source": [
        "predict = pd.read_csv('transform_res_final.csv')"
      ]
    },
    {
      "cell_type": "code",
      "execution_count": 72,
      "metadata": {},
      "outputs": [
        {
          "name": "stderr",
          "output_type": "stream",
          "text": [
            "C:\\Users\\admin\\AppData\\Local\\Temp\\ipykernel_101124\\2063073377.py:2: SettingWithCopyWarning: \n",
            "A value is trying to be set on a copy of a slice from a DataFrame\n",
            "\n",
            "See the caveats in the documentation: https://pandas.pydata.org/pandas-docs/stable/user_guide/indexing.html#returning-a-view-versus-a-copy\n",
            "  predict['종가'][i] = [float(item) for item in predict['종가'][i].strip('[]').split(',')]\n"
          ]
        }
      ],
      "source": [
        "# str으로 들어가있어서 float로 바꾸는 과정입니다.\n",
        "for i in range(2000):\n",
        "    predict['종가'][i] = [float(item) for item in predict['종가'][i].strip('[]').split(',')]"
      ]
    },
    {
      "cell_type": "code",
      "execution_count": 74,
      "metadata": {},
      "outputs": [],
      "source": [
        "pred_list = predict['종가']\n",
        "out_labels = predict['종목코드']"
      ]
    },
    {
      "cell_type": "code",
      "execution_count": 75,
      "metadata": {},
      "outputs": [],
      "source": [
        "# 배열 뺄셈할라면 np.array가 편하긴한데 귀찮아서 그냥 만듬..\n",
        "def subtract_arrays(arr1, arr2):\n",
        "    if len(arr1) != len(arr2):\n",
        "        raise ValueError(\"Arrays must have the same length\")\n",
        "\n",
        "    result = []\n",
        "    for i in range(len(arr1)):\n",
        "        result.append(arr1[i] - arr2[i])\n",
        "    return result"
      ]
    },
    {
      "cell_type": "markdown",
      "metadata": {},
      "source": [
        "수익률(benefit) = 예측값 - 마지막 종가\n",
        "무위험 지표 금리(risk free rate) = Constant한 값\n",
        "샤프지수 = 수익률 - 지표금리 / 수익률의 표준편차"
      ]
    },
    {
      "cell_type": "code",
      "execution_count": 76,
      "metadata": {},
      "outputs": [],
      "source": [
        "# 투자 기간과 무위험 수익률 설정\n",
        "trading_days = 15\n",
        "risk_free_rate = 0.035\n",
        "\n",
        "# 주어진 데이터에 따라 샤프 지수 계산\n",
        "total_return = []\n",
        "for i in pred_list:\n",
        "    initial_asset = i[0]  # 초기 자산 (1일의 종가)\n",
        "    final_asset = i[-1]  # 최종 자산 (15일의 종가)\n",
        "    total_return.append((final_asset - initial_asset) / initial_asset)\n",
        "\n",
        "daily_returns = []\n",
        "for i in pred_list:\n",
        "    daily_returns.append(i[-1] - i[-2] / i[-2])\n",
        "\n",
        "annualized_daily_returns = []\n",
        "for i in pred_list:\n",
        "    annualized_daily_returns.append([daily_return * 250 for daily_return in daily_returns])\n",
        "\n",
        "daily_return_volatility = []\n",
        "for i in range(len(pred_list)):\n",
        "    daily_return_volatility.append(np.std(annualized_daily_returns[i], ddof=1))\n",
        "\n",
        "annualized_total_return = []\n",
        "for i in range(len(pred_list)):\n",
        "    annualized_total_return.append(total_return[i] * (250 / len(pred_list)))\n",
        "\n",
        "sharpe_ratio = []\n",
        "for i in range(len(pred_list)):\n",
        "    sharpe_ratio.append((annualized_total_return[i] - risk_free_rate) / daily_return_volatility[i])\n",
        "\n",
        "\n",
        "\n"
      ]
    },
    {
      "cell_type": "code",
      "execution_count": 77,
      "metadata": {},
      "outputs": [
        {
          "data": {
            "text/plain": [
              "0       A000020\n",
              "1       A000040\n",
              "2       A000050\n",
              "3       A000070\n",
              "4       A000080\n",
              "         ...   \n",
              "1995    A375500\n",
              "1996    A378850\n",
              "1997    A383220\n",
              "1998    A383310\n",
              "1999    A383800\n",
              "Name: 종목코드, Length: 2000, dtype: object"
            ]
          },
          "execution_count": 77,
          "metadata": {},
          "output_type": "execute_result"
        }
      ],
      "source": [
        "out_labels"
      ]
    },
    {
      "cell_type": "code",
      "execution_count": 78,
      "metadata": {
        "id": "6wOarADtAlF7"
      },
      "outputs": [],
      "source": [
        "df=pd.DataFrame({\n",
        "        '종목코드': out_labels,\n",
        "        '샤프지수': sharpe_ratio\n",
        "    }\n",
        ")"
      ]
    },
    {
      "cell_type": "code",
      "execution_count": 79,
      "metadata": {},
      "outputs": [],
      "source": [
        "df = df.sort_values(by='샤프지수', ascending = False)"
      ]
    },
    {
      "cell_type": "code",
      "execution_count": 80,
      "metadata": {},
      "outputs": [],
      "source": [
        "df.drop(columns=['샤프지수'], inplace = True)"
      ]
    },
    {
      "cell_type": "code",
      "execution_count": 81,
      "metadata": {},
      "outputs": [],
      "source": [
        "df['순위'] = list(range(1, 2001))"
      ]
    },
    {
      "cell_type": "code",
      "execution_count": 57,
      "metadata": {},
      "outputs": [],
      "source": [
        "# 이건 종목코드 object로 들어가서 이상하게 나올때만 실행하면 됨\n",
        "df['종목코드'] = df['종목코드'].astype(str)\n",
        "df['종목코드'] = df['종목코드'].str.split().str[1]"
      ]
    },
    {
      "cell_type": "code",
      "execution_count": 84,
      "metadata": {},
      "outputs": [],
      "source": [
        "df.to_csv('{}.csv'.format(\"230724_v0.5\"),index=False)"
      ]
    },
    {
      "cell_type": "code",
      "execution_count": 83,
      "metadata": {},
      "outputs": [
        {
          "data": {
            "text/html": [
              "<div>\n",
              "<style scoped>\n",
              "    .dataframe tbody tr th:only-of-type {\n",
              "        vertical-align: middle;\n",
              "    }\n",
              "\n",
              "    .dataframe tbody tr th {\n",
              "        vertical-align: top;\n",
              "    }\n",
              "\n",
              "    .dataframe thead th {\n",
              "        text-align: right;\n",
              "    }\n",
              "</style>\n",
              "<table border=\"1\" class=\"dataframe\">\n",
              "  <thead>\n",
              "    <tr style=\"text-align: right;\">\n",
              "      <th></th>\n",
              "      <th>종목코드</th>\n",
              "      <th>순위</th>\n",
              "    </tr>\n",
              "  </thead>\n",
              "  <tbody>\n",
              "    <tr>\n",
              "      <th>1485</th>\n",
              "      <td>A145210</td>\n",
              "      <td>1</td>\n",
              "    </tr>\n",
              "    <tr>\n",
              "      <th>73</th>\n",
              "      <td>A001530</td>\n",
              "      <td>2</td>\n",
              "    </tr>\n",
              "    <tr>\n",
              "      <th>77</th>\n",
              "      <td>A001570</td>\n",
              "      <td>3</td>\n",
              "    </tr>\n",
              "    <tr>\n",
              "      <th>1469</th>\n",
              "      <td>A140410</td>\n",
              "      <td>4</td>\n",
              "    </tr>\n",
              "    <tr>\n",
              "      <th>1549</th>\n",
              "      <td>A183490</td>\n",
              "      <td>5</td>\n",
              "    </tr>\n",
              "    <tr>\n",
              "      <th>...</th>\n",
              "      <td>...</td>\n",
              "      <td>...</td>\n",
              "    </tr>\n",
              "    <tr>\n",
              "      <th>1493</th>\n",
              "      <td>A149980</td>\n",
              "      <td>1996</td>\n",
              "    </tr>\n",
              "    <tr>\n",
              "      <th>1563</th>\n",
              "      <td>A190510</td>\n",
              "      <td>1997</td>\n",
              "    </tr>\n",
              "    <tr>\n",
              "      <th>581</th>\n",
              "      <td>A025770</td>\n",
              "      <td>1998</td>\n",
              "    </tr>\n",
              "    <tr>\n",
              "      <th>1146</th>\n",
              "      <td>A082800</td>\n",
              "      <td>1999</td>\n",
              "    </tr>\n",
              "    <tr>\n",
              "      <th>1181</th>\n",
              "      <td>A086520</td>\n",
              "      <td>2000</td>\n",
              "    </tr>\n",
              "  </tbody>\n",
              "</table>\n",
              "<p>2000 rows × 2 columns</p>\n",
              "</div>"
            ],
            "text/plain": [
              "         종목코드    순위\n",
              "1485  A145210     1\n",
              "73    A001530     2\n",
              "77    A001570     3\n",
              "1469  A140410     4\n",
              "1549  A183490     5\n",
              "...       ...   ...\n",
              "1493  A149980  1996\n",
              "1563  A190510  1997\n",
              "581   A025770  1998\n",
              "1146  A082800  1999\n",
              "1181  A086520  2000\n",
              "\n",
              "[2000 rows x 2 columns]"
            ]
          },
          "execution_count": 83,
          "metadata": {},
          "output_type": "execute_result"
        }
      ],
      "source": [
        "df"
      ]
    },
    {
      "cell_type": "code",
      "execution_count": 126,
      "metadata": {},
      "outputs": [],
      "source": [
        "pred_csv=pd.DataFrame({\n",
        "        'PredList': pred_list\n",
        "    }\n",
        ")"
      ]
    },
    {
      "cell_type": "code",
      "execution_count": 127,
      "metadata": {},
      "outputs": [],
      "source": [
        "pred_csv.to_csv('{}.csv'.format(\"pred_list15_230725\"),index=False)"
      ]
    }
  ],
  "metadata": {
    "colab": {
      "provenance": []
    },
    "kernelspec": {
      "display_name": "conda",
      "language": "python",
      "name": "conda"
    },
    "language_info": {
      "codemirror_mode": {
        "name": "ipython",
        "version": 3
      },
      "file_extension": ".py",
      "mimetype": "text/x-python",
      "name": "python",
      "nbconvert_exporter": "python",
      "pygments_lexer": "ipython3",
      "version": "3.9.13"
    }
  },
  "nbformat": 4,
  "nbformat_minor": 0
}
