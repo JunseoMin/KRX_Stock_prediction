{
  "nbformat": 4,
  "nbformat_minor": 0,
  "metadata": {
    "colab": {
      "provenance": [],
      "gpuType": "T4"
    },
    "kernelspec": {
      "name": "python3",
      "display_name": "Python 3"
    },
    "language_info": {
      "name": "python"
    }
  },
  "cells": [
    {
      "cell_type": "markdown",
      "source": [
        "## LSTM class Developed\n",
        "-----------------------------\n",
        "[feat] 7/16\n",
        "- ! to prevent overfitting use K-fold, validation split ! <- NEED TO DEVELOP\n",
        "- basical LSTM model => lstm dense need to doubled\n",
        "- not tested\n",
        "- without AOC, interest rate\n",
        "- bidirectional LSTM Model\n",
        "\n",
        "[feat] 7/17\n",
        "\n",
        "[need] 7/17\n",
        "- val_loss 범위 설정\n",
        "- k-fold 구현-> LSTM 구조상 폐기\n",
        "- return값 설정\n",
        "- 모델 예측 설정 방법\n",
        "\n",
        "\n",
        "#### 7/19 V 1.0\n",
        "[feat]\n",
        "- postscale...      (done)\n",
        "- model test res... (done)\n",
        "- predict range .. (done) (using loss mean square err)\n",
        "\n",
        "[need] 7/19 V 1.0\n",
        "- prediction res return function => ??input??\n",
        "-\n",
        "[feat] V 1.0.1\n",
        "- visiualization update\n",
        "- check res (Request)\n",
        "\n",
        "[feat] V 1.0.2\n",
        "- loss calc func\n",
        "- get tested output\n",
        "\n",
        "#### 7/20\n",
        "[feat & perf] V 1.1.0\n",
        "- optimizated\n",
        "- instanced model\n",
        "- model complete\n",
        "\n",
        "[need] V 1.1.0\n",
        "- need to develop model quality\n",
        "- sort & compedit gap values with prophet\n",
        "\n",
        "if prophet is batter than LSTM use Prophet (by watching res)\n",
        ""
      ],
      "metadata": {
        "id": "Jl1xbFVCPtKO"
      }
    },
    {
      "cell_type": "markdown",
      "source": [
        "imorts & get datas\n",
        "------------"
      ],
      "metadata": {
        "id": "53a68bbqPzrK"
      }
    },
    {
      "cell_type": "code",
      "source": [
        "#!pip install -U finance-datareader\n",
        "\n",
        "#%pip install FinanceDataReader"
      ],
      "metadata": {
        "id": "IyhvmWrGQ-rS"
      },
      "execution_count": 1,
      "outputs": []
    },
    {
      "cell_type": "code",
      "source": [
        "import numpy as np\n",
        "import matplotlib.pyplot as plt\n",
        "import pandas as pd\n",
        "import pandas_datareader as pdr\n",
        "from datetime import datetime\n",
        "from sklearn.preprocessing import MinMaxScaler\n",
        "from tensorflow.keras.models import Sequential, load_model\n",
        "from tensorflow.keras.layers import Dense ,LSTM, Dropout,Bidirectional\n",
        "from sklearn.model_selection import train_test_split, KFold\n",
        "from tensorflow import expand_dims\n",
        "from tensorflow.keras.losses import Huber\n",
        "from tensorflow.keras.optimizers import Adam\n",
        "from tensorflow.keras.callbacks import ModelCheckpoint, EarlyStopping\n",
        "from os.path import join\n",
        "from tensorflow import constant\n",
        "from time import sleep\n",
        "#import FinanceDataReader as fdr"
      ],
      "metadata": {
        "id": "bDqimijIQjdY"
      },
      "execution_count": 2,
      "outputs": []
    },
    {
      "cell_type": "code",
      "execution_count": 3,
      "metadata": {
        "id": "-_pxjz3BPYpb"
      },
      "outputs": [],
      "source": [
        "data=pd.read_csv('/content/drive/MyDrive/2023_1st_vac/KRX_DATA/train.csv')"
      ]
    },
    {
      "cell_type": "code",
      "source": [
        "# prescaler\n",
        "def getAOC(data):\n",
        "  AOC = []\n",
        "  close = data['종가']\n",
        "  close_pre = close.shift(1)\n",
        "\n",
        "  AOC.append(0)\n",
        "\n",
        "  # aoc = (금일 종가 - 전일 종가) / 전일 종가\n",
        "  for i in range(1, len(close)):\n",
        "    aoc_value = ((close[i] - close_pre[i]) / close_pre[i]) * 100\n",
        "    AOC.append(aoc_value)\n",
        "\n",
        "  return AOC\n",
        "\n",
        "#sort data by \"종목명\"\n",
        "subject_Data=data.sort_values(by=\"종목명\",inplace=False)\n",
        "subject_Data.head()\n",
        "subject_Data.columns\n",
        "\n",
        "pv_s_data=pd.pivot_table(subject_Data,values=['거래량', '시가', '고가', '저가', '종가'],index=['종목코드','일자'])\n",
        "\n",
        "divided = pv_s_data.index.get_level_values('종목코드').unique()\n",
        "\n",
        "sliced_dataframes = []\n",
        "\n",
        "for i in divided:\n",
        "    sliced_data = pv_s_data.loc[i]\n",
        "    sliced_dataframe = sliced_data.reset_index()\n",
        "    sliced_dataframes.append(sliced_dataframe)"
      ],
      "metadata": {
        "id": "Xg6dg09IUovd"
      },
      "execution_count": 4,
      "outputs": []
    },
    {
      "cell_type": "code",
      "source": [
        "sliced_dataframes[0].columns[1:-1]"
      ],
      "metadata": {
        "colab": {
          "base_uri": "https://localhost:8080/"
        },
        "id": "xseyDtvDYM00",
        "outputId": "d400106b-6969-4780-9e48-5e4266f7a62c"
      },
      "execution_count": 5,
      "outputs": [
        {
          "output_type": "execute_result",
          "data": {
            "text/plain": [
              "Index(['거래량', '고가', '시가', '저가'], dtype='object')"
            ]
          },
          "metadata": {},
          "execution_count": 5
        }
      ]
    },
    {
      "cell_type": "markdown",
      "source": [
        "## LSTM Obj"
      ],
      "metadata": {
        "id": "lF-DvmbKYcLv"
      }
    },
    {
      "cell_type": "code",
      "source": [
        "class LSTM_Object():\n",
        "\n",
        "  def __init__(self,data):\n",
        "    #get sliced data\n",
        "    self.data=data\n",
        "\n",
        "  def modeling(self):\n",
        "\n",
        "    self.prescale()\n",
        "    self.model=Sequential()\n",
        "    #layers\n",
        "    self.model.add(Bidirectional(LSTM(1024,return_sequences=True,input_shape=(self.time_steps, self.num_features))))\n",
        "    self.model.add(Dense(512, activation='relu'))\n",
        "    self.model.add(Dense(256, activation='relu'))\n",
        "    self.model.add(Dense(128, activation='relu'))\n",
        "    self.model.add(Dense(64, activation='relu'))\n",
        "    self.model.add(Dense(32, activation='relu'))\n",
        "\n",
        "    #output layer\n",
        "    self.model.add(Dense(1, activation='relu'))\n",
        "\n",
        "    self.filename = join('/content/drive/MyDrive/2023_1st_vac/KRX_modelings/tests', 'ckeckpointer.ckpt')\n",
        "    checkpoint = ModelCheckpoint(self.filename, save_weights_only=True, save_best_only=True,monitor='val_loss',verbose=0)\n",
        "\n",
        "    earlystopping = EarlyStopping(monitor='val_loss', patience=100)\n",
        "    self.model.compile(loss = 'mean_squared_error', optimizer=Adam(learning_rate=0.001))\n",
        "    self.history=self.model.fit(self.x_train,self.y_train,epochs=1,batch_size=128,validation_data=(self.x_val,self.x_val),shuffle=False,callbacks=[checkpoint, earlystopping],verbose=0)\n",
        "\n",
        "\n",
        "  def prescale(self):\n",
        "    x_scaler = MinMaxScaler()\n",
        "    self.y_scaler = MinMaxScaler()\n",
        "    # Scaling features\n",
        "    x_data = self.data[self.data.columns[1:-1]]\n",
        "    x_data = x_scaler.fit_transform(x_data)\n",
        "    # Scaling target variable\n",
        "    y_data = self.data['종가']\n",
        "    y_data = self.y_scaler.fit_transform(y_data.values.reshape(-1, 1))\n",
        "    # validation set\n",
        "    x_train_p, x_test, y_train_p, y_test = train_test_split(x_data, y_data, test_size=0.2, shuffle=False)\n",
        "    x_train, x_val, y_train, y_val = train_test_split(x_train_p, y_train_p, test_size=0.25, shuffle=False)\n",
        "    __t,x_final,__t,__t=train_test_split(x_data, y_data, test_size=30/len(y_data), shuffle=False)\n",
        "\n",
        "    ### reshape input datas()\n",
        "\n",
        "\n",
        "    self.num_features = x_data.shape[1]\n",
        "    self.num_samples=x_data.shape[0]\n",
        "    self.time_steps=30\n",
        "\n",
        "    self.x_train = self.create_sequences(x_train)\n",
        "    self.x_test = self.create_sequences(x_test)\n",
        "    self.x_val = self.create_sequences(x_val)\n",
        "    self.x_final = self.create_sequences(x_final)\n",
        "\n",
        "    self.y_train=self.create_sequences(y_train)\n",
        "    self.y_test=self.create_sequences(y_test)\n",
        "    self.y_val=self.create_sequences(y_val)\n",
        "\n",
        "\n",
        "\n",
        "  def create_sequences(self, data):\n",
        "    num_samples, num_features = data.shape\n",
        "    sequences = []\n",
        "    for i in range(num_samples - self.time_steps +1):\n",
        "      sequences.append(data[i:i + self.time_steps, :])\n",
        "    return np.array(sequences)\n",
        "\n",
        "  def inverse_sequences(self,data_sequences):\n",
        "    num_samples, num_steps, num_features = data_sequences.shape\n",
        "    data = np.zeros((num_samples + self.time_steps - 1, num_features))\n",
        "    for i in range(num_samples):\n",
        "      data[i:i + self.time_steps, :] += data_sequences[i, :, :]\n",
        "    data /= self.time_steps\n",
        "    return data[:num_samples]\n",
        "    #frquency domain inverse laplace transform\n",
        "\n",
        "  def ret_learning(self):\n",
        "    # rescale to get real value\n",
        "    self.modeling()\n",
        "    sleep(0.5)\n",
        "    self.model.load_weights(self.filename)\n",
        "    pred = self.model.predict(self.x_test)\n",
        "    sleep(0.5)\n",
        "    rescaled_pred = self.y_scaler.inverse_transform(self.inverse_sequences(pred).reshape(-1,1))\n",
        "    rescaled_real = self.y_scaler.inverse_transform(self.inverse_sequences(self.y_test).reshape(-1,1))\n",
        "    sleep(0.5)\n",
        "\n",
        "    #real-pred to get resonable value (later)\n",
        "    k=0\n",
        "    sum=0\n",
        "    for p in rescaled_pred:\n",
        "      sum+=abs(rescaled_real[k]-p)\n",
        "      k+=1\n",
        "    gap=sum/k\n",
        "\n",
        "    #plt.figure(figsize=(12, 9))\n",
        "    #plt.plot(rescaled_real, label='actual')\n",
        "    #plt.plot(rescaled_pred, label='prediction')\n",
        "    #plt.legend()\n",
        "    #plt.show()\n",
        "\n",
        "    return rescaled_pred,gap\n",
        "\n",
        "  def predict_after_30days(self):\n",
        "    _ , gap = self.ret_learning()\n",
        "    self.model.load_weights(self.filename)\n",
        "    pred_30 = self.model.predict(self.x_final)\n",
        "    pred_30 = self.y_scaler.inverse_transform(self.inverse_sequences(pred_30).reshape(-1,1))\n",
        "    pred_30=pred_30[-1]\n",
        "    return pred_30,gap\n"
      ],
      "metadata": {
        "id": "rqz4N2_IVacg"
      },
      "execution_count": 9,
      "outputs": []
    },
    {
      "cell_type": "code",
      "source": [
        "labels=data[['종목코드']]"
      ],
      "metadata": {
        "id": "M89z3rRbFIKt"
      },
      "execution_count": 10,
      "outputs": []
    },
    {
      "cell_type": "markdown",
      "source": [
        "test shell"
      ],
      "metadata": {
        "id": "1_oAc1VC9txT"
      }
    },
    {
      "cell_type": "code",
      "source": [],
      "metadata": {
        "id": "vzPm4y4R4FPE"
      },
      "execution_count": 10,
      "outputs": []
    },
    {
      "cell_type": "code",
      "source": [
        "pred_list=[]\n",
        "gap_acc=[]\n",
        "\n",
        "test=sliced_dataframes[0]\n",
        "print(labels.iloc[0])\n",
        "#결과랑 실제 값이랑 같게 나오도록 코드 수정해줘 -민 // 슬라이스 내가 한거 아니라서 입력되는 순서가 종목 코드별로 sort되어있는지 확인 필요할듯\n",
        "#무튼 입력값이랑 프린트에 나오는 종목코드랑 같은애면 됨\n",
        "LSTM_model=LSTM_Object(test)\n",
        "\n",
        "pred,gap = LSTM_model.predict_after_30days()\n",
        "\n",
        "pred"
      ],
      "metadata": {
        "colab": {
          "base_uri": "https://localhost:8080/"
        },
        "id": "YZTRyFJU9V3C",
        "outputId": "b0065141-4f4b-4148-f867-3c5c999cd80a"
      },
      "execution_count": 11,
      "outputs": [
        {
          "output_type": "stream",
          "name": "stdout",
          "text": [
            "종목코드    A060310\n",
            "Name: 0, dtype: object\n",
            "3/3 [==============================] - 4s 949ms/step\n",
            "1/1 [==============================] - 0s 125ms/step\n"
          ]
        },
        {
          "output_type": "execute_result",
          "data": {
            "text/plain": [
              "array([8170.])"
            ]
          },
          "metadata": {},
          "execution_count": 11
        }
      ]
    },
    {
      "cell_type": "code",
      "source": [
        "idx=0\n",
        "\n",
        "pred_list=[]\n",
        "gap_acc=[]\n",
        "for c in sliced_dataframes:\n",
        "  print(labels.iloc[idx])     #결과랑 실제 값이랑 같게 나오도록 코드 수정해줘 -민 // 슬라이스 내가 한거 아니라 수정하기 싫..\n",
        "  LSTM_model=LSTM_Object(c)\n",
        "  pred,gap = LSTM_model.ret_learning()\n",
        "  idx+=1\n",
        "  sleep(2)\n",
        "  pred_list.append(pred)\n",
        "  gap_acc.append(gap)\n",
        "  #to prevent model corrupting"
      ],
      "metadata": {
        "id": "p0n8S46j2-hs"
      },
      "execution_count": null,
      "outputs": []
    },
    {
      "cell_type": "code",
      "source": [
        "labels.info"
      ],
      "metadata": {
        "id": "6wOarADtAlF7"
      },
      "execution_count": null,
      "outputs": []
    },
    {
      "cell_type": "code",
      "source": [
        "labels.iloc[0]"
      ],
      "metadata": {
        "id": "fs0gmL-yFBrz"
      },
      "execution_count": null,
      "outputs": []
    },
    {
      "cell_type": "code",
      "source": [],
      "metadata": {
        "id": "Vr6lNO-YFfbh"
      },
      "execution_count": null,
      "outputs": []
    }
  ]
}